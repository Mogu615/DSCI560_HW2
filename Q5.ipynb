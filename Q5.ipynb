{
 "cells": [
  {
   "cell_type": "markdown",
   "metadata": {},
   "source": [
    "## Q5 calls the three scripts"
   ]
  },
  {
   "cell_type": "markdown",
   "metadata": {},
   "source": [
    "### a. Generate 1000 random numbers over range 0-100"
   ]
  },
  {
   "cell_type": "code",
   "execution_count": 2,
   "metadata": {},
   "outputs": [],
   "source": [
    "%run Random_Numbers.py"
   ]
  },
  {
   "cell_type": "code",
   "execution_count": 3,
   "metadata": {},
   "outputs": [
    {
     "name": "stdout",
     "output_type": "stream",
     "text": [
      "['7', '62', '79', '3', '1', '86', '93', '42', '27', '93', '32', '3', '94', '43', '27', '48', '95', '55', '48', '98', '43', '59', '19', '36', '38', '67', '42', '52', '1', '68', '65', '100', '9', '1', '1', '1', '72', '66', '66', '9', '13', '70', '64', '44', '81', '15', '31', '62', '89', '28', '15', '86', '14', '5', '82', '95', '82', '53', '77', '66', '41', '75', '90', '16', '47', '88', '100', '9', '83', '81', '26', '20', '8', '99', '34', '8', '60', '36', '47', '52', '18', '29', '69', '59', '13', '6', '28', '88', '90', '34', '54', '51', '39', '30', '90', '54', '20', '20', '30', '8']\n"
     ]
    }
   ],
   "source": [
    "# show 100 of the results of Random_Numbers.py\n",
    "with open('random_number.txt','r') as f:\n",
    "    result = []\n",
    "    for line in f:\n",
    "        result.append(line.strip())\n",
    "    print(result[:100])"
   ]
  },
  {
   "cell_type": "markdown",
   "metadata": {},
   "source": [
    "## b. Generate new numbers from the original 1000 using the equation y=3x+6"
   ]
  },
  {
   "cell_type": "code",
   "execution_count": 6,
   "metadata": {},
   "outputs": [],
   "source": [
    "%run Using_equations.py"
   ]
  },
  {
   "cell_type": "code",
   "execution_count": 9,
   "metadata": {},
   "outputs": [
    {
     "name": "stdout",
     "output_type": "stream",
     "text": [
      "['27', '192', '243', '15', '9', '264', '285', '132', '87', '285', '102', '15', '288', '135', '87', '150', '291', '171', '150', '300', '135', '183', '63', '114', '120', '207', '132', '162', '9', '210', '201', '306', '33', '9', '9', '9', '222', '204', '204', '33', '45', '216', '198', '138', '249', '51', '99', '192', '273', '90', '51', '264', '48', '21', '252', '291', '252', '165', '237', '204', '129', '231', '276', '54', '147', '270', '306', '33', '255', '249', '84', '66', '30', '303', '108', '30', '186', '114', '147', '162', '60', '93', '213', '183', '45', '24', '90', '270', '276', '108', '168', '159', '123', '96', '276', '168', '66', '66', '96', '30']\n"
     ]
    }
   ],
   "source": [
    "# show 100 of the results of Using_equations.py\n",
    "with open('using_equation.txt','r') as f:\n",
    "    result=[]\n",
    "    for line in f:\n",
    "        result.append(line.strip())\n",
    "    print(result[:100])"
   ]
  },
  {
   "cell_type": "markdown",
   "metadata": {},
   "source": [
    "## c. Visualize the results"
   ]
  },
  {
   "cell_type": "code",
   "execution_count": 10,
   "metadata": {},
   "outputs": [],
   "source": [
    "%run Visualization.py"
   ]
  },
  {
   "cell_type": "code",
   "execution_count": 12,
   "metadata": {},
   "outputs": [
    {
     "name": "stdout",
     "output_type": "stream",
     "text": [
      "(480, 640, 3)\n"
     ]
    },
    {
     "data": {
      "text/plain": [
       "<matplotlib.image.AxesImage at 0x112b1b278>"
      ]
     },
     "execution_count": 12,
     "metadata": {},
     "output_type": "execute_result"
    },
    {
     "data": {
      "image/png": "[encoded data removed]",
      "text/plain": [
       "<Figure size 432x288 with 1 Axes>"
      ]
     },
     "metadata": {
      "needs_background": "light"
     },
     "output_type": "display_data"
    }
   ],
   "source": [
    "import matplotlib.pyplot as plt\n",
    "import matplotlib.image as mpimg\n",
    "import numpy as np\n",
    "I = mpimg.imread('Visualization.jpg')\n",
    "print(I.shape)\n",
    "plt.imshow(I)"
   ]
  }
 ],
 "metadata": {
  "kernelspec": {
   "display_name": "Python 3",
   "language": "python",
   "name": "python3"
  },
  "language_info": {
   "codemirror_mode": {
    "name": "ipython",
    "version": 3
   },
   "file_extension": ".py",
   "mimetype": "text/x-python",
   "name": "python",
   "nbconvert_exporter": "python",
   "pygments_lexer": "ipython3",
   "version": "3.7.3"
  }
 },
 "nbformat": 4,
 "nbformat_minor": 2
}
